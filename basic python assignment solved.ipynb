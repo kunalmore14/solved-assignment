{
 "cells": [
  {
   "cell_type": "code",
   "execution_count": 3,
   "id": "ec65715c",
   "metadata": {},
   "outputs": [
    {
     "name": "stdout",
     "output_type": "stream",
     "text": [
      "kunal24\n"
     ]
    }
   ],
   "source": [
    "#Q1. Take two variables of number and character and concatenate it. ex. yournamebirthdate.\n",
    "a = 'kunal'\n",
    "b = '24'\n",
    "print(a+b)"
   ]
  },
  {
   "cell_type": "code",
   "execution_count": 1,
   "id": "9e37b2d6",
   "metadata": {},
   "outputs": [
    {
     "name": "stdout",
     "output_type": "stream",
     "text": [
      "kunalsmore98@gmail.com\n"
     ]
    }
   ],
   "source": [
    "#Q2. Take three variable. Ex. emailid.\n",
    "a = 'kunalsmore'\n",
    "b = '98'\n",
    "c = '@gmail.com'\n",
    "print(a+b+c)"
   ]
  },
  {
   "cell_type": "code",
   "execution_count": 2,
   "id": "134b7360",
   "metadata": {},
   "outputs": [
    {
     "name": "stdout",
     "output_type": "stream",
     "text": [
      "kunalSmore\n"
     ]
    }
   ],
   "source": [
    "#Q3. Take three variable and print your full name.\n",
    "a = 'kunal'\n",
    "b = 'S'\n",
    "c = 'more'\n",
    "print(a+b+c)"
   ]
  },
  {
   "cell_type": "code",
   "execution_count": 6,
   "id": "19710b7c",
   "metadata": {},
   "outputs": [
    {
     "name": "stdout",
     "output_type": "stream",
     "text": [
      "phyiscs : 50\n",
      "biology : 5\n",
      "geography : 50\n",
      "history : 50\n",
      "maths : 50\n",
      "41.0\n"
     ]
    }
   ],
   "source": [
    "#Q4. Find out the percentage of the student using input users( 5 subject, Total marks = 500 ).\n",
    "a = int(input('phyiscs : '))\n",
    "b = int(input('biology : '))\n",
    "c = int(input('geography : '))\n",
    "d = int(input('history : '))\n",
    "e = int(input('maths : '))\n",
    "percentage = (a+b+c+d+e)/500*100\n",
    "print(percentage)"
   ]
  },
  {
   "cell_type": "code",
   "execution_count": 7,
   "id": "cfec02a1",
   "metadata": {},
   "outputs": [
    {
     "name": "stdout",
     "output_type": "stream",
     "text": [
      "20\n"
     ]
    }
   ],
   "source": [
    "#Q5. Find out Area of Rectangle using input user. (length x breadth)\n",
    "l = 5\n",
    "b = 4\n",
    "area = l*b\n",
    "print(area)"
   ]
  },
  {
   "cell_type": "code",
   "execution_count": 8,
   "id": "af0e000e",
   "metadata": {},
   "outputs": [
    {
     "name": "stdout",
     "output_type": "stream",
     "text": [
      "25\n"
     ]
    }
   ],
   "source": [
    "#Q6. Find out Area of Square using input user.  (length x length)\n",
    "l = 5\n",
    "b = 4\n",
    "area = l*l\n",
    "print(area)"
   ]
  },
  {
   "cell_type": "code",
   "execution_count": 15,
   "id": "266a7105",
   "metadata": {},
   "outputs": [
    {
     "name": "stdout",
     "output_type": "stream",
     "text": [
      "78.5\n"
     ]
    }
   ],
   "source": [
    "#Q7. Find out Area of Circle using input user.  ( pi x radius x radius) \n",
    "r = 5\n",
    "pi = 3.14\n",
    "area = pi*r**2\n",
    "print(area)"
   ]
  },
  {
   "cell_type": "code",
   "execution_count": 16,
   "id": "be91b167",
   "metadata": {},
   "outputs": [
    {
     "name": "stdout",
     "output_type": "stream",
     "text": [
      "18\n"
     ]
    }
   ],
   "source": [
    "#Q8. Find out Perimeter of Rectangle. (2 length + 2 breadth)\n",
    "l = 5\n",
    "b = 4\n",
    "area = 2*l + 2*b\n",
    "print(area)"
   ]
  },
  {
   "cell_type": "code",
   "execution_count": 17,
   "id": "7474b862",
   "metadata": {},
   "outputs": [
    {
     "name": "stdout",
     "output_type": "stream",
     "text": [
      "20\n"
     ]
    }
   ],
   "source": [
    "#Q9. Find out Perimeter of Square. ( 4 x side)\n",
    "s = 5\n",
    "perimeter = 4*s\n",
    "print(perimeter)"
   ]
  },
  {
   "cell_type": "code",
   "execution_count": 18,
   "id": "ae630f26",
   "metadata": {},
   "outputs": [
    {
     "name": "stdout",
     "output_type": "stream",
     "text": [
      "31.400000000000002\n"
     ]
    }
   ],
   "source": [
    "#Q10.Find out circumferance of Circle. ( 2 x pi x radius)\n",
    "r = 5\n",
    "pi = 3.14\n",
    "circumference = 2*pi*r\n",
    "print(circumference)"
   ]
  },
  {
   "cell_type": "code",
   "execution_count": 19,
   "id": "790be886",
   "metadata": {},
   "outputs": [
    {
     "name": "stdout",
     "output_type": "stream",
     "text": [
      "216\n"
     ]
    }
   ],
   "source": [
    "#Q11.Find out of Volume of Cube. (length x length x length)\n",
    "l = 6\n",
    "cube = l**3\n",
    "print(cube)"
   ]
  },
  {
   "cell_type": "code",
   "execution_count": 20,
   "id": "7b833890",
   "metadata": {},
   "outputs": [
    {
     "name": "stdout",
     "output_type": "stream",
     "text": [
      "216\n"
     ]
    }
   ],
   "source": [
    "#Q12.Find out Volume of Cuboid.  ( length x breadth x height)\n",
    "l = 4\n",
    "b = 6\n",
    "h = 9\n",
    "vol = l*b*h\n",
    "print(vol)"
   ]
  },
  {
   "cell_type": "code",
   "execution_count": 21,
   "id": "876ffc84",
   "metadata": {},
   "outputs": [
    {
     "name": "stdout",
     "output_type": "stream",
     "text": [
      "150\n"
     ]
    }
   ],
   "source": [
    "#Q13.Find out total surface area of Cube. ( 6 x length x length)\n",
    "l = 5\n",
    "area = 6*l**2\n",
    "print(area)"
   ]
  },
  {
   "cell_type": "code",
   "execution_count": 22,
   "id": "5e631a36",
   "metadata": {},
   "outputs": [
    {
     "name": "stdout",
     "output_type": "stream",
     "text": [
      "94\n"
     ]
    }
   ],
   "source": [
    "#Q14.Find out total surface area of Cuboid. ( 2lb + 2bh + 2lh)\n",
    "l = 3\n",
    "b = 5\n",
    "h = 4\n",
    "area =  2*l*b + 2*b*h + 2*l*h\n",
    "print(area)"
   ]
  },
  {
   "cell_type": "code",
   "execution_count": null,
   "id": "592a762f",
   "metadata": {},
   "outputs": [],
   "source": []
  }
 ],
 "metadata": {
  "kernelspec": {
   "display_name": "Python 3 (ipykernel)",
   "language": "python",
   "name": "python3"
  },
  "language_info": {
   "codemirror_mode": {
    "name": "ipython",
    "version": 3
   },
   "file_extension": ".py",
   "mimetype": "text/x-python",
   "name": "python",
   "nbconvert_exporter": "python",
   "pygments_lexer": "ipython3",
   "version": "3.9.12"
  },
  "varInspector": {
   "cols": {
    "lenName": 16,
    "lenType": 16,
    "lenVar": 40
   },
   "kernels_config": {
    "python": {
     "delete_cmd_postfix": "",
     "delete_cmd_prefix": "del ",
     "library": "var_list.py",
     "varRefreshCmd": "print(var_dic_list())"
    },
    "r": {
     "delete_cmd_postfix": ") ",
     "delete_cmd_prefix": "rm(",
     "library": "var_list.r",
     "varRefreshCmd": "cat(var_dic_list()) "
    }
   },
   "types_to_exclude": [
    "module",
    "function",
    "builtin_function_or_method",
    "instance",
    "_Feature"
   ],
   "window_display": false
  }
 },
 "nbformat": 4,
 "nbformat_minor": 5
}
